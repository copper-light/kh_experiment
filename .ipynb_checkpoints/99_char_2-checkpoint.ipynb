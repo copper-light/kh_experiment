{
 "cells": [
  {
   "cell_type": "code",
   "execution_count": 1,
   "metadata": {},
   "outputs": [],
   "source": [
    "import matplotlib.pyplot as plt\n",
    "import math\n",
    "import numpy as np\n",
    "import core.utils as utils"
   ]
  },
  {
   "cell_type": "code",
   "execution_count": 2,
   "metadata": {},
   "outputs": [],
   "source": [
    "logs = [\n",
    "    { \"label\" : \"mini_batch_sgd\",  \"path\" : \"/home/onycom/study/logs/20210519_194439/loss(r=0.5)_0.log\"},\n",
    "]"
   ]
  },
  {
   "cell_type": "code",
   "execution_count": 11,
   "metadata": {},
   "outputs": [],
   "source": [
    "def parseLog(path):\n",
    "    a = []\n",
    "    b = []\n",
    "    c = []\n",
    "    d = []\n",
    "\n",
    "    comunnication = []\n",
    "    train_val_time = 0\n",
    "    only_train_time =0\n",
    "    with open(path, 'r', encoding='utf-8') as f:\n",
    "        for row in f.readlines():\n",
    "            item = row.split(',')\n",
    "            \n",
    "            if row.find('train time') > -1: # len 7\n",
    "                #2021-05-20 00:42:09,945:INFO:[Rank-0] train time 39.6154, epoch  26, step  98, loss 3.43209100, auc@1 17.13, auc@5 43.60, share 48, std_loss 0.02590131636100764,  3.40098 3.44795 3.43573 3.44370\n",
    "                loss = item[9].strip().split(' ') # std_loss\n",
    "                a.append(float(loss[0]))\n",
    "                b.append(float(loss[1]))\n",
    "                c.append(float(loss[2]))\n",
    "                d.append(float(loss[3]))\n",
    "        \n",
    "    return [a,b,c,d]"
   ]
  },
  {
   "cell_type": "code",
   "execution_count": 12,
   "metadata": {},
   "outputs": [],
   "source": [
    "data = parseLog(\"/home/onycom/study/logs/20210519_194439/loss(r=0.5)_0.log\")"
   ]
  },
  {
   "cell_type": "code",
   "execution_count": null,
   "metadata": {},
   "outputs": [],
   "source": [
    "FONT_SIZE = 25\n",
    "plt.figure(figsize=(30, 70),  dpi=150)\n",
    "\n",
    "plt.rc('font', size=FONT_SIZE) # controls default text sizes\n",
    "plt.rc('axes', titlesize=FONT_SIZE) # fontsize of the axes title\n",
    "plt.rc('axes', labelsize=FONT_SIZE) # fontsize of the x and y labels\n",
    "plt.rc('xtick', labelsize=FONT_SIZE) # fontsize of the tick labels\n",
    "plt.rc('ytick', labelsize=FONT_SIZE) # fontsize of the tick labels\n",
    "plt.rc('legend', fontsize=FONT_SIZE) # legend fontsize\n",
    "plt.rc('figure', titlesize=FONT_SIZE) # fontsize of the figure title\n",
    "\n",
    "epochs = len(log[0])\n",
    "\n",
    "for log in data:\n",
    "\n",
    "    plt.subplot(position + idx)\n",
    "    plt.plot(list(range(1, epochs + 1)), log)\n",
    "\n",
    "    plt.xlabel('epoch')\n",
    "    plt.legend()\n",
    "\n",
    "plt.show()"
   ]
  }
 ],
 "metadata": {
  "kernelspec": {
   "display_name": "Python 3",
   "language": "python",
   "name": "python3"
  },
  "language_info": {
   "codemirror_mode": {
    "name": "ipython",
    "version": 3
   },
   "file_extension": ".py",
   "mimetype": "text/x-python",
   "name": "python",
   "nbconvert_exporter": "python",
   "pygments_lexer": "ipython3",
   "version": "3.6.9"
  }
 },
 "nbformat": 4,
 "nbformat_minor": 4
}
